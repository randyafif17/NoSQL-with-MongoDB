{
 "cells": [
  {
   "cell_type": "code",
   "execution_count": 1,
   "metadata": {},
   "outputs": [
    {
     "name": "stdout",
     "output_type": "stream",
     "text": [
      "Collecting pymongo\n",
      "  Downloading pymongo-4.6.0-cp311-cp311-win_amd64.whl (472 kB)\n",
      "     ---------------------------------------- 0.0/472.7 kB ? eta -:--:--\n",
      "     ------------------- ------------------ 245.8/472.7 kB 5.0 MB/s eta 0:00:01\n",
      "     -------------------------------------- 472.7/472.7 kB 4.9 MB/s eta 0:00:00\n",
      "Collecting dnspython<3.0.0,>=1.16.0\n",
      "  Using cached dnspython-2.4.2-py3-none-any.whl (300 kB)\n",
      "Installing collected packages: dnspython, pymongo\n",
      "Successfully installed dnspython-2.4.2 pymongo-4.6.0\n"
     ]
    }
   ],
   "source": [
    "!pip install pymongo"
   ]
  },
  {
   "cell_type": "code",
   "execution_count": 6,
   "metadata": {},
   "outputs": [],
   "source": [
    "from pymongo import MongoClient"
   ]
  },
  {
   "cell_type": "code",
   "execution_count": 8,
   "metadata": {},
   "outputs": [],
   "source": [
    "# Membuat koneksi ke server MongoDB\n",
    "\n",
    "client = MongoClient('localhost', 27017)\n"
   ]
  },
  {
   "cell_type": "code",
   "execution_count": 11,
   "metadata": {},
   "outputs": [],
   "source": [
    "# Membuat database baru bernama 'demoDB'\n",
    "\n",
    "db = client['demoDB']\n"
   ]
  },
  {
   "cell_type": "code",
   "execution_count": 10,
   "metadata": {},
   "outputs": [
    {
     "data": {
      "text/plain": [
       "InsertOneResult(ObjectId('654a1989d61c91fe5de86631'), acknowledged=True)"
      ]
     },
     "execution_count": 10,
     "metadata": {},
     "output_type": "execute_result"
    }
   ],
   "source": [
    "# Menyisipkan dokumen ke dalam koleksi 'users'\n",
    "\n",
    "db.users.insert_one({'name': 'John', 'age': 25, 'address': '123 Main St', 'gender': 'male'})\n"
   ]
  },
  {
   "cell_type": "code",
   "execution_count": 13,
   "metadata": {},
   "outputs": [
    {
     "name": "stdout",
     "output_type": "stream",
     "text": [
      "['admin', 'config', 'local', 'populations']\n"
     ]
    }
   ],
   "source": [
    "database_names = client.list_database_names()\n",
    "print(database_names)\n"
   ]
  },
  {
   "cell_type": "code",
   "execution_count": 14,
   "metadata": {},
   "outputs": [],
   "source": [
    "# Menampilkan seluruh dokumen dalam koleksi 'users'\n",
    "\n",
    "for user in db.users.find():\n",
    "    print(user)"
   ]
  },
  {
   "cell_type": "code",
   "execution_count": 16,
   "metadata": {},
   "outputs": [],
   "source": [
    "# Mencari dokumen dengan kriteria tertentu\n",
    "\n",
    "for user in db.users.find({'name': 'John'}):\n",
    "    print(user)"
   ]
  },
  {
   "cell_type": "code",
   "execution_count": 20,
   "metadata": {},
   "outputs": [
    {
     "data": {
      "text/plain": [
       "UpdateResult({'n': 0, 'nModified': 0, 'ok': 1.0, 'updatedExisting': False}, acknowledged=True)"
      ]
     },
     "execution_count": 20,
     "metadata": {},
     "output_type": "execute_result"
    }
   ],
   "source": [
    "# Memperbarui dokumen\n",
    "\n",
    "db.users.update_one({'name': 'John'}, {'$set': {'age': 26}})\n"
   ]
  },
  {
   "cell_type": "code",
   "execution_count": 21,
   "metadata": {},
   "outputs": [
    {
     "data": {
      "text/plain": [
       "DeleteResult({'n': 0, 'ok': 1.0}, acknowledged=True)"
      ]
     },
     "execution_count": 21,
     "metadata": {},
     "output_type": "execute_result"
    }
   ],
   "source": [
    "# Menghapus dokumen\n",
    "\n",
    "db.users.delete_one({'name': 'John'})\n"
   ]
  },
  {
   "cell_type": "code",
   "execution_count": 18,
   "metadata": {},
   "outputs": [
    {
     "data": {
      "text/plain": [
       "InsertManyResult([ObjectId('654a1b25d61c91fe5de86632'), ObjectId('654a1b25d61c91fe5de86633'), ObjectId('654a1b25d61c91fe5de86634'), ObjectId('654a1b25d61c91fe5de86635')], acknowledged=True)"
      ]
     },
     "execution_count": 18,
     "metadata": {},
     "output_type": "execute_result"
    }
   ],
   "source": [
    "# Menambahkan beberapa dokumen\n",
    "\n",
    "db.users.insert_many([\n",
    "    {'name': 'Alice', 'age': 28, 'address': '456 Elm St', 'gender': 'female'},\n",
    "    {'name': 'Bob', 'age': 32, 'address': '789 Maple St', 'gender': 'male'},\n",
    "    {'name': 'Charlie', 'age': 22, 'address': '101 Pine St', 'gender': 'male'},\n",
    "    {'name': 'Diana', 'age': 29, 'address': '202 Oak St', 'gender': 'female'}\n",
    "])\n"
   ]
  },
  {
   "cell_type": "code",
   "execution_count": 19,
   "metadata": {},
   "outputs": [
    {
     "name": "stdout",
     "output_type": "stream",
     "text": [
      "{'_id': ObjectId('654a1b25d61c91fe5de86633'), 'name': 'Bob', 'age': 32, 'address': '789 Maple St', 'gender': 'male'}\n"
     ]
    }
   ],
   "source": [
    "# Mencari dengan query operator\n",
    "\n",
    "for user in db.users.find({'age': {'$gt': 30}}):\n",
    "    print(user)"
   ]
  },
  {
   "cell_type": "code",
   "execution_count": 35,
   "metadata": {},
   "outputs": [
    {
     "name": "stdout",
     "output_type": "stream",
     "text": [
      "1\n"
     ]
    }
   ],
   "source": [
    "# Menghitung jumlah dokumen dengan kriteria tertentu\n",
    "count = db.users.count_documents({'age': {'$gt': 30}})\n",
    "print(count)"
   ]
  },
  {
   "cell_type": "code",
   "execution_count": 22,
   "metadata": {},
   "outputs": [
    {
     "data": {
      "text/plain": [
       "'name_1'"
      ]
     },
     "execution_count": 22,
     "metadata": {},
     "output_type": "execute_result"
    }
   ],
   "source": [
    "# Membuat index pada koleksi untuk optimalisasi query\n",
    "\n",
    "db.users.create_index([('name', 1)])\n"
   ]
  },
  {
   "cell_type": "code",
   "execution_count": 23,
   "metadata": {},
   "outputs": [
    {
     "name": "stdout",
     "output_type": "stream",
     "text": [
      "{'_id_': {'v': 2, 'key': [('_id', 1)]}, 'name_1': {'v': 2, 'key': [('name', 1)]}}\n"
     ]
    }
   ],
   "source": [
    "# Menampilkan index yang ada pada koleksi\n",
    "\n",
    "indexes = db.users.index_information()\n",
    "print(indexes)"
   ]
  },
  {
   "cell_type": "code",
   "execution_count": null,
   "metadata": {},
   "outputs": [],
   "source": [
    "# Menghapus database\n",
    "# Hati-hati dengan operasi ini karena akan menghapus seluruh database!\n",
    "client.drop_database('demoDB')"
   ]
  },
  {
   "cell_type": "code",
   "execution_count": 24,
   "metadata": {},
   "outputs": [
    {
     "name": "stdout",
     "output_type": "stream",
     "text": [
      "{'_id': 'female', 'count': 2}\n",
      "{'_id': 'male', 'count': 2}\n"
     ]
    }
   ],
   "source": [
    "# Menggunakan agregasi untuk menghitung jumlah pengguna berdasarkan gender\n",
    "\n",
    "for result in db.users.aggregate([\n",
    "    {'$group': {'_id': '$gender', 'count': {'$sum': 1}}}\n",
    "]):\n",
    "    print(result)"
   ]
  },
  {
   "cell_type": "code",
   "execution_count": 26,
   "metadata": {},
   "outputs": [
    {
     "name": "stdout",
     "output_type": "stream",
     "text": [
      "{'_id': None, 'averageAge': 27.75}\n"
     ]
    }
   ],
   "source": [
    "# Mencari rata-rata umur pengguna\n",
    "\n",
    "average_age = db.users.aggregate([\n",
    "    {'$group': {'_id': None, 'averageAge': {'$avg': '$age'}}}\n",
    "])\n",
    "for avg in average_age:\n",
    "    print(avg)"
   ]
  },
  {
   "cell_type": "code",
   "execution_count": 27,
   "metadata": {},
   "outputs": [
    {
     "name": "stdout",
     "output_type": "stream",
     "text": [
      "{'_id': ObjectId('654a1b25d61c91fe5de86633'), 'name': 'Bob', 'age': 32, 'address': '789 Maple St', 'gender': 'male'}\n",
      "{'_id': ObjectId('654a1b25d61c91fe5de86635'), 'name': 'Diana', 'age': 29, 'address': '202 Oak St', 'gender': 'female'}\n",
      "{'_id': ObjectId('654a1b25d61c91fe5de86632'), 'name': 'Alice', 'age': 28, 'address': '456 Elm St', 'gender': 'female'}\n",
      "{'_id': ObjectId('654a1b25d61c91fe5de86634'), 'name': 'Charlie', 'age': 22, 'address': '101 Pine St', 'gender': 'male'}\n"
     ]
    }
   ],
   "source": [
    "# Mengurutkan pengguna berdasarkan umur\n",
    "\n",
    "for user in db.users.aggregate([{'$sort': {'age': -1}}]):\n",
    "    print(user)\n"
   ]
  },
  {
   "cell_type": "code",
   "execution_count": 28,
   "metadata": {},
   "outputs": [
    {
     "name": "stdout",
     "output_type": "stream",
     "text": [
      "{'_id': ObjectId('654a1b25d61c91fe5de86632'), 'name': 'Alice', 'age': 28, 'isAdult': True}\n",
      "{'_id': ObjectId('654a1b25d61c91fe5de86633'), 'name': 'Bob', 'age': 32, 'isAdult': True}\n",
      "{'_id': ObjectId('654a1b25d61c91fe5de86634'), 'name': 'Charlie', 'age': 22, 'isAdult': True}\n",
      "{'_id': ObjectId('654a1b25d61c91fe5de86635'), 'name': 'Diana', 'age': 29, 'isAdult': True}\n"
     ]
    }
   ],
   "source": [
    "# Penggunaan `$project` untuk mengubah struktur dokumen output\n",
    "\n",
    "for user in db.users.aggregate([\n",
    "    {'$project': {'name': 1, 'age': 1, 'isAdult': {'$cond': [{'$gte': ['$age', 18]}, True, False]}}}\n",
    "]):\n",
    "    print(user)"
   ]
  },
  {
   "cell_type": "code",
   "execution_count": 29,
   "metadata": {},
   "outputs": [
    {
     "name": "stdout",
     "output_type": "stream",
     "text": [
      "{'_id': ObjectId('654a1b25d61c91fe5de86632'), 'name': 'Alice', 'age': 28, 'address': '456 Elm St', 'gender': 'female'}\n",
      "{'_id': ObjectId('654a1b25d61c91fe5de86635'), 'name': 'Diana', 'age': 29, 'address': '202 Oak St', 'gender': 'female'}\n"
     ]
    }
   ],
   "source": [
    "# Menggunakan `$match` untuk menyaring data\n",
    "\n",
    "for user in db.users.aggregate([\n",
    "    {'$match': {'gender': 'female'}},\n",
    "    {'$sort': {'age': 1}}\n",
    "]):\n",
    "    print(user)"
   ]
  },
  {
   "cell_type": "code",
   "execution_count": 30,
   "metadata": {},
   "outputs": [
    {
     "name": "stdout",
     "output_type": "stream",
     "text": [
      "{'_id': 20, 'count': 3, 'users': ['Alice', 'Charlie', 'Diana']}\n",
      "{'_id': 30, 'count': 1, 'users': ['Bob']}\n"
     ]
    }
   ],
   "source": [
    "# Penggunaan `$bucket` untuk membagi data ke dalam rentang\n",
    "\n",
    "for bucket in db.users.aggregate([\n",
    "    {\n",
    "        '$bucket': {\n",
    "            'groupBy': '$age',\n",
    "            'boundaries': [20, 30, 40],\n",
    "            'default': 'other',\n",
    "            'output': {\n",
    "                'count': {'$sum': 1},\n",
    "                'users': {'$push': '$name'}\n",
    "            }\n",
    "        }\n",
    "    }\n",
    "]):\n",
    "    print(bucket)"
   ]
  },
  {
   "cell_type": "code",
   "execution_count": 31,
   "metadata": {},
   "outputs": [
    {
     "name": "stdout",
     "output_type": "stream",
     "text": [
      "{'_id': ObjectId('654a1bdbd61c91fe5de86636'), 'name': 'Eve', 'hobbies': 'reading'}\n",
      "{'_id': ObjectId('654a1bdbd61c91fe5de86636'), 'name': 'Eve', 'hobbies': 'hiking'}\n",
      "{'_id': ObjectId('654a1bdbd61c91fe5de86636'), 'name': 'Eve', 'hobbies': 'swimming'}\n"
     ]
    }
   ],
   "source": [
    "# `$unwind`: Menguraikan array sehingga setiap elemennya menjadi dokumen tersendiri\n",
    "\n",
    "db.users.insert_one({'name': 'Eve', 'hobbies': ['reading', 'hiking', 'swimming']})\n",
    "for hobby in db.users.aggregate([{'$unwind': '$hobbies'}]):\n",
    "    print(hobby)"
   ]
  },
  {
   "cell_type": "code",
   "execution_count": 32,
   "metadata": {},
   "outputs": [
    {
     "name": "stdout",
     "output_type": "stream",
     "text": [
      "{'_id': ObjectId('654a1b25d61c91fe5de86632'), 'name': 'Alice', 'age': 28, 'address': '456 Elm St', 'gender': 'female', 'userOrders': [{'_id': ObjectId('654a1be3d61c91fe5de86638'), 'userId': 'Alice', 'item': 'pen', 'price': 1}]}\n",
      "{'_id': ObjectId('654a1b25d61c91fe5de86633'), 'name': 'Bob', 'age': 32, 'address': '789 Maple St', 'gender': 'male', 'userOrders': []}\n",
      "{'_id': ObjectId('654a1b25d61c91fe5de86634'), 'name': 'Charlie', 'age': 22, 'address': '101 Pine St', 'gender': 'male', 'userOrders': []}\n",
      "{'_id': ObjectId('654a1b25d61c91fe5de86635'), 'name': 'Diana', 'age': 29, 'address': '202 Oak St', 'gender': 'female', 'userOrders': []}\n",
      "{'_id': ObjectId('654a1bdbd61c91fe5de86636'), 'name': 'Eve', 'hobbies': ['reading', 'hiking', 'swimming'], 'userOrders': []}\n"
     ]
    }
   ],
   "source": [
    "# `$lookup`: Memungkinkan Anda untuk melakukan join antar koleksi\n",
    "\n",
    "db.orders.insert_many([\n",
    "    {'userId': 'John', 'item': 'book', 'price': 20},\n",
    "    {'userId': 'Alice', 'item': 'pen', 'price': 1}\n",
    "])\n",
    "\n",
    "for user in db.users.aggregate([\n",
    "    {\n",
    "        '$lookup': {\n",
    "            'from': 'orders',\n",
    "            'localField': 'name',\n",
    "            'foreignField': 'userId',\n",
    "            'as': 'userOrders'\n",
    "        }\n",
    "    }\n",
    "]):\n",
    "    print(user)\n"
   ]
  },
  {
   "cell_type": "code",
   "execution_count": 33,
   "metadata": {},
   "outputs": [
    {
     "name": "stdout",
     "output_type": "stream",
     "text": [
      "{'byGender': [{'_id': 'female', 'count': 2}, {'_id': None, 'count': 1}, {'_id': 'male', 'count': 2}], 'byAge': [{'_id': 20, 'count': 3}, {'_id': 30, 'count': 1}, {'_id': 'other', 'count': 1}]}\n"
     ]
    }
   ],
   "source": [
    "# `$facet`: Memungkinkan Anda untuk membuat banyak jalur pemrosesan dalam satu tahapan agregasi\n",
    "\n",
    "for facet in db.users.aggregate([\n",
    "    {\n",
    "        '$facet': {\n",
    "            'byGender': [{'$group': {'_id': '$gender', 'count': {'$sum': 1}}}],\n",
    "            'byAge': [{'$bucket': {'groupBy': '$age', 'boundaries': [20, 30, 40], 'default': 'other'}}]\n",
    "        }\n",
    "    }\n",
    "]):\n",
    "    print(facet)"
   ]
  },
  {
   "cell_type": "code",
   "execution_count": 34,
   "metadata": {},
   "outputs": [
    {
     "name": "stdout",
     "output_type": "stream",
     "text": [
      "{'_id': ObjectId('654a1b25d61c91fe5de86632'), 'name': 'Alice', 'age': 28, 'address': '456 Elm St', 'gender': 'female', 'doubleAge': 56}\n",
      "{'_id': ObjectId('654a1b25d61c91fe5de86633'), 'name': 'Bob', 'age': 32, 'address': '789 Maple St', 'gender': 'male', 'doubleAge': 64}\n",
      "{'_id': ObjectId('654a1b25d61c91fe5de86634'), 'name': 'Charlie', 'age': 22, 'address': '101 Pine St', 'gender': 'male', 'doubleAge': 44}\n",
      "{'_id': ObjectId('654a1b25d61c91fe5de86635'), 'name': 'Diana', 'age': 29, 'address': '202 Oak St', 'gender': 'female', 'doubleAge': 58}\n",
      "{'_id': ObjectId('654a1bdbd61c91fe5de86636'), 'name': 'Eve', 'hobbies': ['reading', 'hiking', 'swimming'], 'doubleAge': None}\n"
     ]
    }
   ],
   "source": [
    "# `$addFields` atau `$set`: Menambahkan bidang baru ke dokumen\n",
    "\n",
    "for user in db.users.aggregate([{'$addFields': {'doubleAge': {'$multiply': ['$age', 2]}}}]):\n",
    "    print(user)"
   ]
  },
  {
   "cell_type": "code",
   "execution_count": null,
   "metadata": {},
   "outputs": [],
   "source": []
  }
 ],
 "metadata": {
  "kernelspec": {
   "display_name": "ai",
   "language": "python",
   "name": "python3"
  },
  "language_info": {
   "codemirror_mode": {
    "name": "ipython",
    "version": 3
   },
   "file_extension": ".py",
   "mimetype": "text/x-python",
   "name": "python",
   "nbconvert_exporter": "python",
   "pygments_lexer": "ipython3",
   "version": "3.11.3"
  }
 },
 "nbformat": 4,
 "nbformat_minor": 2
}
